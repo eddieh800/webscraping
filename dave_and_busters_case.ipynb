{
 "cells": [
  {
   "cell_type": "code",
   "execution_count": 167,
   "metadata": {},
   "outputs": [],
   "source": [
    "import pandas as pd\n",
    "import numpy as np\n",
    "from selenium import webdriver\n",
    "from selenium.webdriver.chrome.options import Options\n",
    "from selenium.webdriver.common.keys import Keys\n",
    "from selenium.webdriver.common.by import By\n",
    "from selenium.webdriver.support.ui import WebDriverWait\n",
    "from selenium.webdriver.support import expected_conditions as EC\n",
    "from selenium.webdriver.common.action_chains import ActionChains\n",
    "import time"
   ]
  },
  {
   "cell_type": "code",
   "execution_count": 148,
   "metadata": {},
   "outputs": [],
   "source": [
    "# Chrome Driver 104\n",
    "DRIVER_PATH = '/Users/edwardhuang/Documents/interview/Dave And Busters/chromedriver'\n",
    "\n",
    "# Use Chrome Beta, compatible with above Chrome Driver\n",
    "options = Options()\n",
    "#options.headless = True\n",
    "options.binary_location = '/Applications/Google Chrome Beta.app/Contents/MacOS/Google Chrome Beta'"
   ]
  },
  {
   "cell_type": "code",
   "execution_count": 163,
   "metadata": {},
   "outputs": [
    {
     "name": "stdout",
     "output_type": "stream",
     "text": [
      "//*[@id='dnb-locations-list']/div[2]/div[1]/div[1]/ul/li[1]/a\n"
     ]
    },
    {
     "name": "stderr",
     "output_type": "stream",
     "text": [
      "<ipython-input-163-e213be66a36e>:26: DeprecationWarning: executable_path has been deprecated, please pass in a Service object\n",
      "  driver = webdriver.Chrome(options=options,executable_path=DRIVER_PATH)\n"
     ]
    },
    {
     "name": "stdout",
     "output_type": "stream",
     "text": [
      "check2\n",
      "1\n",
      "//*[@id='dnb-locations-list']/div[2]/div[1]/div[1]/ul/li[2]/a\n",
      "check2\n",
      "2\n",
      "//*[@id='dnb-locations-list']/div[2]/div[1]/div[2]/ul/li[1]/a\n",
      "check2\n",
      "3\n",
      "//*[@id='dnb-locations-list']/div[2]/div[3]/div[2]/ul/li[1]/a\n",
      "check2\n",
      "4\n",
      "//*[@id='dnb-locations-list']/div[2]/div[3]/div[2]/ul/li[2]/a\n",
      "check2\n",
      "5\n",
      "//*[@id='dnb-locations-list']/div[2]/div[3]/div[2]/ul/li[3]/a\n",
      "check2\n",
      "6\n"
     ]
    }
   ],
   "source": [
    "# Create array of D&Bs Locations in the format of Column x State x Location\n",
    "# This is unideal because it hardcodes the structure of the store location page\n",
    "# Ideally you would get the parent and then loop through each child but lets get a working prototype before coming back and making the selenium call more advance.\n",
    "allLocs = [[[1,2],[1]],[[],[]],[[],[1,2,3]],[[],[]]]\n",
    "address1List = []\n",
    "address2List = []\n",
    "address3List = []\n",
    "\n",
    "\n",
    "n = 1\n",
    "\n",
    "for col in range(len(allLocs)):\n",
    "    for state in range(len(allLocs[col])):\n",
    "        for location in allLocs[col][state]:\n",
    "            # Using XPATH since it fits well with the column/state/location structure of page\n",
    "            if location is not None:\n",
    "                xpath = f\"//*[@id='dnb-locations-list']/div[2]/div[{col+1}]/div[{state+1}]/ul/li[{location}]/a\"   \n",
    "            else:\n",
    "                xpath = f\"//*[@id='dnb-locations-list']/div[2]/div[{col+1}]/div[{state+1}]/ul/li/a\"   \n",
    "            \n",
    "            print(xpath)\n",
    "            \n",
    "            # Is it messy to restart driver every time for a new location?\n",
    "            driver = webdriver.Chrome(options=options,executable_path=DRIVER_PATH)\n",
    "            driver.get('https://www.daveandbusters.com/locations')\n",
    "            wait = WebDriverWait(driver, 30)  # Wait for page to load (uper bound)\n",
    "\n",
    "            ActionChains(\n",
    "                driver).move_to_element(  #the link is not clickable immediately, so you need to scroll down to it.\n",
    "                    wait.until(\n",
    "                        EC.element_to_be_clickable(\n",
    "                            (By.XPATH, xpath)\n",
    "                        )\n",
    "                    )\n",
    "                ).click(\n",
    "            ).perform()\n",
    "            \n",
    "            time.sleep(7) # Wait for store page to load. This is probably bad practice, you can maybe add this to action chains and use wait.until again?\n",
    "            address1 = driver.find_element(\n",
    "                By.XPATH, \"//*[@id='location-details-widget']/div/div[1]/div[2]/div[1]/div/div[2]\").text\n",
    "            address2 = driver.find_element(\n",
    "                By.XPATH, \"//*[@id='location-details-widget']/div/div[1]/div[2]/div[1]/div/div[3]\").text\n",
    "            address3 = driver.find_element(\n",
    "                By.XPATH, \"//*[@id='location-details-widget']/div/div[1]/div[2]/div[1]/div/div[4]\").text\n",
    "\n",
    "            address1List.append(address1)\n",
    "            address2List.append(address2)\n",
    "            address3List.append(address3)\n",
    "            \n",
    "            print(n)\n",
    "            n += 1\n",
    "            \n",
    "driver.close()"
   ]
  },
  {
   "cell_type": "code",
   "execution_count": 169,
   "metadata": {},
   "outputs": [],
   "source": [
    "df = pd.DataFrame(data = {\n",
    "    'Address 1': address1List,\n",
    "    'Address 2': address2List,\n",
    "    'City State Zip': address3List\n",
    "})\n",
    "\n",
    "df['Full Address'] = df['Address 1'] + ' ' + df['Address 2'] + ' ' + df['City State Zip']\n",
    "\n",
    "df"
   ]
  },
  {
   "cell_type": "code",
   "execution_count": 195,
   "metadata": {},
   "outputs": [
    {
     "name": "stderr",
     "output_type": "stream",
     "text": [
      "<ipython-input-195-e85013b12bdf>:12: DeprecationWarning: executable_path has been deprecated, please pass in a Service object\n",
      "  driver = webdriver.Chrome(options=options,executable_path=DRIVER_PATH)\n"
     ]
    },
    {
     "name": "stdout",
     "output_type": "stream",
     "text": [
      "4.1\n",
      "4.3\n",
      "4.0\n",
      "4.3\n",
      "4.1\n",
      "4.1\n"
     ]
    }
   ],
   "source": [
    "# You can make this a function and appply it to the df\n",
    "\n",
    "n = 1\n",
    "reviewList = []\n",
    "\n",
    "for store in df['Full Address']:    \n",
    "    driver = webdriver.Chrome(options=options,executable_path=DRIVER_PATH)\n",
    "    driver.get('https://www.google.com')\n",
    "\n",
    "    # Identify search box\n",
    "    m = driver.find_element(By.NAME,\"q\")\n",
    "    # Enter search text\n",
    "    m.send_keys('Dave and Busters ' + store)\n",
    "    time.sleep(0.2)\n",
    "    # Perform Google search\n",
    "    m.send_keys(Keys.ENTER)\n",
    "\n",
    "    time.sleep(7) # Bad practice? use wait.until?\n",
    "\n",
    "    # I used class name this time because it seems more generic than xpath. \n",
    "    # There might be an even better search element.\n",
    "    review = driver.find_element(\n",
    "        By.CLASS_NAME,'Aq14fc').text\n",
    "    \n",
    "    reviewList.append(review)\n",
    "    print(review)\n",
    "            \n",
    "driver.close()"
   ]
  },
  {
   "cell_type": "code",
   "execution_count": 196,
   "metadata": {},
   "outputs": [
    {
     "data": {
      "text/html": [
       "<div>\n",
       "<style scoped>\n",
       "    .dataframe tbody tr th:only-of-type {\n",
       "        vertical-align: middle;\n",
       "    }\n",
       "\n",
       "    .dataframe tbody tr th {\n",
       "        vertical-align: top;\n",
       "    }\n",
       "\n",
       "    .dataframe thead th {\n",
       "        text-align: right;\n",
       "    }\n",
       "</style>\n",
       "<table border=\"1\" class=\"dataframe\">\n",
       "  <thead>\n",
       "    <tr style=\"text-align: right;\">\n",
       "      <th></th>\n",
       "      <th>Address 1</th>\n",
       "      <th>Address 2</th>\n",
       "      <th>City State Zip</th>\n",
       "      <th>Full Address</th>\n",
       "      <th>Reviews</th>\n",
       "    </tr>\n",
       "  </thead>\n",
       "  <tbody>\n",
       "    <tr>\n",
       "      <th>0</th>\n",
       "      <td>2700 Riverchase Galleria</td>\n",
       "      <td>Ste 110</td>\n",
       "      <td>Birmingham, AL, 35244</td>\n",
       "      <td>2700 Riverchase Galleria Ste 110 Birmingham, A...</td>\n",
       "      <td>4.1</td>\n",
       "    </tr>\n",
       "    <tr>\n",
       "      <th>1</th>\n",
       "      <td>950 Makers Way NW</td>\n",
       "      <td></td>\n",
       "      <td>Huntsville, AL, 35806</td>\n",
       "      <td>950 Makers Way NW  Huntsville, AL, 35806</td>\n",
       "      <td>4.3</td>\n",
       "    </tr>\n",
       "    <tr>\n",
       "      <th>2</th>\n",
       "      <td>800 East Dimond Blvd.</td>\n",
       "      <td>Suite 240</td>\n",
       "      <td>Anchorage, AK, 99515</td>\n",
       "      <td>800 East Dimond Blvd. Suite 240 Anchorage, AK,...</td>\n",
       "      <td>4.0</td>\n",
       "    </tr>\n",
       "    <tr>\n",
       "      <th>3</th>\n",
       "      <td>200 Premium Outlets Dr</td>\n",
       "      <td></td>\n",
       "      <td>Blackwood, NJ, 08012</td>\n",
       "      <td>200 Premium Outlets Dr  Blackwood, NJ, 08012</td>\n",
       "      <td>4.3</td>\n",
       "    </tr>\n",
       "    <tr>\n",
       "      <th>4</th>\n",
       "      <td>310 Willowbrook Mall</td>\n",
       "      <td></td>\n",
       "      <td>Wayne, NJ, 07470</td>\n",
       "      <td>310 Willowbrook Mall  Wayne, NJ, 07470</td>\n",
       "      <td>4.1</td>\n",
       "    </tr>\n",
       "    <tr>\n",
       "      <th>5</th>\n",
       "      <td>274 Woodbridge Center Dr</td>\n",
       "      <td></td>\n",
       "      <td>Woodbridge, NJ, 07095</td>\n",
       "      <td>274 Woodbridge Center Dr  Woodbridge, NJ, 07095</td>\n",
       "      <td>4.1</td>\n",
       "    </tr>\n",
       "  </tbody>\n",
       "</table>\n",
       "</div>"
      ],
      "text/plain": [
       "                  Address 1  Address 2         City State Zip  \\\n",
       "0  2700 Riverchase Galleria    Ste 110  Birmingham, AL, 35244   \n",
       "1         950 Makers Way NW             Huntsville, AL, 35806   \n",
       "2     800 East Dimond Blvd.  Suite 240   Anchorage, AK, 99515   \n",
       "3    200 Premium Outlets Dr              Blackwood, NJ, 08012   \n",
       "4      310 Willowbrook Mall                  Wayne, NJ, 07470   \n",
       "5  274 Woodbridge Center Dr             Woodbridge, NJ, 07095   \n",
       "\n",
       "                                        Full Address Reviews  \n",
       "0  2700 Riverchase Galleria Ste 110 Birmingham, A...     4.1  \n",
       "1           950 Makers Way NW  Huntsville, AL, 35806     4.3  \n",
       "2  800 East Dimond Blvd. Suite 240 Anchorage, AK,...     4.0  \n",
       "3       200 Premium Outlets Dr  Blackwood, NJ, 08012     4.3  \n",
       "4             310 Willowbrook Mall  Wayne, NJ, 07470     4.1  \n",
       "5    274 Woodbridge Center Dr  Woodbridge, NJ, 07095     4.1  "
      ]
     },
     "execution_count": 196,
     "metadata": {},
     "output_type": "execute_result"
    }
   ],
   "source": [
    "df['Reviews'] = reviewList\n",
    "df"
   ]
  },
  {
   "cell_type": "code",
   "execution_count": 204,
   "metadata": {},
   "outputs": [
    {
     "data": {
      "text/plain": [
       "[2, 3]"
      ]
     },
     "execution_count": 204,
     "metadata": {},
     "output_type": "execute_result"
    }
   ],
   "source": [
    "test = [1,2,3]\n",
    "test[1:]"
   ]
  },
  {
   "cell_type": "code",
   "execution_count": null,
   "metadata": {},
   "outputs": [],
   "source": []
  }
 ],
 "metadata": {
  "kernelspec": {
   "display_name": "Python 3",
   "language": "python",
   "name": "python3"
  },
  "language_info": {
   "codemirror_mode": {
    "name": "ipython",
    "version": 3
   },
   "file_extension": ".py",
   "mimetype": "text/x-python",
   "name": "python",
   "nbconvert_exporter": "python",
   "pygments_lexer": "ipython3",
   "version": "3.8.5"
  }
 },
 "nbformat": 4,
 "nbformat_minor": 4
}
